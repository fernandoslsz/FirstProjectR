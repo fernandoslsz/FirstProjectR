{
 "cells": [
  {
   "cell_type": "code",
   "execution_count": 1,
   "metadata": {},
   "outputs": [],
   "source": [
    "#Criando a primeira função\n",
    "def primeira_função():\n",
    "    print(\"Essa é a primeira função.\")"
   ]
  },
  {
   "cell_type": "code",
   "execution_count": 2,
   "metadata": {},
   "outputs": [
    {
     "name": "stdout",
     "output_type": "stream",
     "text": [
      "Essa é a primeira função.\n"
     ]
    }
   ],
   "source": [
    "primeira_função()"
   ]
  },
  {
   "cell_type": "code",
   "execution_count": 4,
   "metadata": {},
   "outputs": [],
   "source": [
    "#Função para somar números\n",
    "def adicNum(primeiro, segundo):\n",
    "    print(\"Primeiro número: \" + str(primeiro))\n",
    "    print(\"Segundo número: \" + str(segundo))\n",
    "    print(\"Soma: \", primeiro + segundo)"
   ]
  },
  {
   "cell_type": "code",
   "execution_count": 5,
   "metadata": {},
   "outputs": [
    {
     "name": "stdout",
     "output_type": "stream",
     "text": [
      "Primeiro número: 45\n",
      "Segundo número: 2\n",
      "Soma:  47\n"
     ]
    }
   ],
   "source": [
    "#Chamando a função e passando parâmetros\n",
    "adicNum(45,2)"
   ]
  },
  {
   "cell_type": "code",
   "execution_count": 3,
   "metadata": {},
   "outputs": [
    {
     "name": "stdout",
     "output_type": "stream",
     "text": [
      "Meu nome é Fernando\n"
     ]
    }
   ],
   "source": [
    "#Definindo uma função com parâmetro\n",
    "def primeiraFunção(nome):\n",
    "    print(\"Meu nome é \" + nome)\n",
    "\n",
    "primeiraFunção(\"Fernando\")\n",
    "\n"
   ]
  },
  {
   "cell_type": "code",
   "execution_count": 23,
   "metadata": {},
   "outputs": [],
   "source": [
    "def numeros(n1,n2,n3,n4):\n",
    "    print(\"Fazendo a conta de números \" +str(n1)+\" , \"+str(n2)+ \" ,\" +str(n3)+ \" ,\" +str(n4)+ \" .\")\n",
    "    "
   ]
  },
  {
   "cell_type": "code",
   "execution_count": 24,
   "metadata": {},
   "outputs": [
    {
     "name": "stdout",
     "output_type": "stream",
     "text": [
      "Fazendo a conta de números 8 , 9 ,10 ,12 .\n"
     ]
    }
   ],
   "source": [
    "numeros(8,9,10,12)"
   ]
  },
  {
   "cell_type": "code",
   "execution_count": 11,
   "metadata": {},
   "outputs": [],
   "source": [
    "import math\n",
    "def numPrimo(num):\n",
    "    ''' Verificando se um número é primo '''\n",
    "   \n",
    "    for i in range(3, int(math.sqrt(num)) + 1, 2):\n",
    "        if(num % 2 == 0 and num > 2):\n",
    "            return \"Esse número não é primo\"\n",
    "        \n",
    "        if(num % i == 0):\n",
    "            \n",
    "            return \"Esse número não é primo\"\n",
    "    return \"Esse número é primo\"\n",
    "\n"
   ]
  },
  {
   "cell_type": "code",
   "execution_count": 12,
   "metadata": {},
   "outputs": [
    {
     "data": {
      "text/plain": [
       "'Esse número não é primo'"
      ]
     },
     "execution_count": 12,
     "metadata": {},
     "output_type": "execute_result"
    }
   ],
   "source": [
    "numPrimo(121)"
   ]
  },
  {
   "cell_type": "code",
   "execution_count": 13,
   "metadata": {},
   "outputs": [],
   "source": [
    "#Fazendo  split dos dados\n",
    "def split_string(text):\n",
    "    return text.split(\" \")\n",
    "texto = \"Essa linha será separa por palavras e é ideal para analisar dados.\""
   ]
  },
  {
   "cell_type": "code",
   "execution_count": 15,
   "metadata": {},
   "outputs": [
    {
     "name": "stdout",
     "output_type": "stream",
     "text": [
      "['Essa', 'linha', 'será', 'separa', 'por', 'palavras', 'e', 'é', 'ideal', 'para', 'analisar', 'dados.']\n"
     ]
    }
   ],
   "source": [
    "#Isso dividi a string em uma lista.\n",
    "print(split_string(texto))"
   ]
  },
  {
   "cell_type": "code",
   "execution_count": 26,
   "metadata": {},
   "outputs": [],
   "source": [
    "# Quando você não souber a quantidade de parâmetros que será necessária.\n",
    "# Para isso basta usar o * porque assim, você define que poderá receber muitos parâmetros.\n",
    "def imprimepara(para1, *para2):\n",
    "    a = 0\n",
    "    print(\"Mostre o parâmetro 1\", para1)\n",
    "    \n",
    "    for i in para2:\n",
    "        print(\"Imprima o parâmetro \" + str(a+1) + \" \" + i)\n",
    "    return;\n",
    "\n",
    "    \n",
    "        \n",
    "    "
   ]
  },
  {
   "cell_type": "code",
   "execution_count": 27,
   "metadata": {},
   "outputs": [
    {
     "name": "stdout",
     "output_type": "stream",
     "text": [
      "Mostre o parâmetro 1 10\n"
     ]
    }
   ],
   "source": [
    "#Chamando a função com apenas um argumento.\n",
    "imprimepara(10)"
   ]
  },
  {
   "cell_type": "code",
   "execution_count": 28,
   "metadata": {},
   "outputs": [
    {
     "name": "stdout",
     "output_type": "stream",
     "text": [
      "Mostre o parâmetro 1 Carro\n",
      "Imprima o parâmetro 1 Bicicleta\n"
     ]
    }
   ],
   "source": [
    "imprimepara(\"Carro\",\"Bicicleta\")"
   ]
  },
  {
   "cell_type": "code",
   "execution_count": 29,
   "metadata": {},
   "outputs": [
    {
     "name": "stdout",
     "output_type": "stream",
     "text": [
      "Mostre o parâmetro 1 Bebida\n",
      "Imprima o parâmetro 1 Moeda\n",
      "Imprima o parâmetro 1 Barco\n",
      "Imprima o parâmetro 1 Bolsa\n"
     ]
    }
   ],
   "source": [
    "#Adicionando mais parâmetro\n",
    "imprimepara(\"Bebida\", \"Moeda\", \"Barco\", \"Bolsa\")"
   ]
  },
  {
   "cell_type": "code",
   "execution_count": null,
   "metadata": {},
   "outputs": [],
   "source": []
  }
 ],
 "metadata": {
  "kernelspec": {
   "display_name": "Python 3",
   "language": "python",
   "name": "python3"
  },
  "language_info": {
   "codemirror_mode": {
    "name": "ipython",
    "version": 3
   },
   "file_extension": ".py",
   "mimetype": "text/x-python",
   "name": "python",
   "nbconvert_exporter": "python",
   "pygments_lexer": "ipython3",
   "version": "3.7.3"
  }
 },
 "nbformat": 4,
 "nbformat_minor": 2
}
