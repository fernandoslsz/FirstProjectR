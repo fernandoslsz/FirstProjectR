{
 "cells": [
  {
   "cell_type": "code",
   "execution_count": 2,
   "metadata": {},
   "outputs": [
    {
     "name": "stdout",
     "output_type": "stream",
     "text": [
      "6\n",
      "7\n",
      "8\n",
      "9\n",
      "6\n",
      "7\n",
      "8\n",
      "9\n"
     ]
    }
   ],
   "source": [
    "for i in range(0,2):\n",
    "    for a in range(6,10):\n",
    "        print(a)"
   ]
  },
  {
   "cell_type": "code",
   "execution_count": 3,
   "metadata": {},
   "outputs": [
    {
     "name": "stdout",
     "output_type": "stream",
     "text": [
      "100\n",
      "101\n",
      "102\n",
      "100\n",
      "101\n",
      "102\n"
     ]
    }
   ],
   "source": [
    "for b in range(10,12):\n",
    "    for j in range(100, 103):\n",
    "        print(j)"
   ]
  },
  {
   "cell_type": "code",
   "execution_count": 7,
   "metadata": {},
   "outputs": [
    {
     "name": "stdout",
     "output_type": "stream",
     "text": [
      "24\n",
      "44\n",
      "84\n",
      "146\n",
      "230\n"
     ]
    }
   ],
   "source": [
    "# Operando valores de uma lista com loop for\n",
    "numeros = [12, 10, 20, 31, 42]\n",
    "soma = 0\n",
    "for i in numeros:\n",
    "    mult = i * 2\n",
    "    \n",
    "    soma += mult\n",
    "    print(soma)"
   ]
  },
  {
   "cell_type": "code",
   "execution_count": 8,
   "metadata": {},
   "outputs": [
    {
     "name": "stdout",
     "output_type": "stream",
     "text": [
      "['lâmpada', 'privada', 'sofá']\n",
      "['mesa', 'cadeira', 'geladeira']\n",
      "['guarda-roupa', 'cama', 'espelho']\n"
     ]
    }
   ],
   "source": [
    "# Loops em lista de listas\n",
    "objetos = [[\"lâmpada\", \"privada\", \"sofá\"], [\"mesa\", \"cadeira\", \"geladeira\"], [\"guarda-roupa\", \"cama\", \"espelho\"]]\n",
    "for ob in objetos:\n",
    "    print(ob)"
   ]
  },
  {
   "cell_type": "code",
   "execution_count": 9,
   "metadata": {},
   "outputs": [
    {
     "name": "stdout",
     "output_type": "stream",
     "text": [
      "4\n"
     ]
    }
   ],
   "source": [
    "# contando elementos dentro de uma lista\n",
    "frutas = [\"manga\", \"goiaba\", \"ameixa\", \"uva\"]\n",
    "count = 0\n",
    "for ft in frutas:\n",
    "    count += 1\n",
    "print(count)\n",
    "\n"
   ]
  },
  {
   "cell_type": "code",
   "execution_count": 11,
   "metadata": {},
   "outputs": [
    {
     "name": "stdout",
     "output_type": "stream",
     "text": [
      "3\n"
     ]
    }
   ],
   "source": [
    "# Contando o número de colunas\n",
    "animais = [[1,2,3], [4,5,6],[7,8,9]]\n",
    "primeira_linha = animais[0]\n",
    "count = 0\n",
    "for coluna in primeira_linha:\n",
    "    count = count + 1\n",
    "print(count)\n",
    "    "
   ]
  },
  {
   "cell_type": "code",
   "execution_count": null,
   "metadata": {},
   "outputs": [],
   "source": []
  },
  {
   "cell_type": "code",
   "execution_count": 6,
   "metadata": {},
   "outputs": [
    {
     "name": "stdout",
     "output_type": "stream",
     "text": [
      "\n",
      "Digite o produto que deseja\n",
      " 1 - Ovo\n",
      " 2 - Pão \n",
      " 3 - Leite\n",
      " 4 - Açucar\n",
      " 5 - Manteiga\n",
      " 6 - Mortadela\n",
      "Ovo\n",
      "Tem o item que deseja \n"
     ]
    }
   ],
   "source": [
    "# pesquisando na lista\n",
    "mercado = [\"ovo\", \"pão\", \"leite\", \"açúcar\", \"manteiga\", \"mortadela\"]\n",
    "print(\"\\nDigite o produto que deseja\"\n",
    "             \"\\n 1 - Ovo\"\n",
    "             \"\\n 2 - Pão \"\n",
    "             \"\\n 3 - Leite\"\n",
    "             \"\\n 4 - Açucar\"\n",
    "             \"\\n 5 - Manteiga\"\n",
    "             \"\\n 6 - Mortadela\")\n",
    "item = input(\"\")\n",
    "\n",
    "for i in mercado:\n",
    "    if i == item.lower():\n",
    "        print(\"Tem o item que deseja \")\n",
    "\n",
    "    \n",
    "            \n",
    "        "
   ]
  },
  {
   "cell_type": "code",
   "execution_count": null,
   "metadata": {
    "collapsed": true
   },
   "outputs": [],
   "source": []
  }
 ],
 "metadata": {
  "kernelspec": {
   "display_name": "Python 3",
   "language": "python",
   "name": "python3"
  },
  "language_info": {
   "codemirror_mode": {
    "name": "ipython",
    "version": 3
   },
   "file_extension": ".py",
   "mimetype": "text/x-python",
   "name": "python",
   "nbconvert_exporter": "python",
   "pygments_lexer": "ipython3",
   "version": "3.7.3"
  }
 },
 "nbformat": 4,
 "nbformat_minor": 2
}
