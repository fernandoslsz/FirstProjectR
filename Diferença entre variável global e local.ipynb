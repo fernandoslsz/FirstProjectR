{
 "cells": [
  {
   "cell_type": "code",
   "execution_count": 1,
   "metadata": {},
   "outputs": [
    {
     "name": "stdout",
     "output_type": "stream",
     "text": [
      "16\n",
      "20\n"
     ]
    }
   ],
   "source": [
    "var_global = 20\n",
    "def multiplicar(num1, num2):\n",
    "    var_global = num1 * num2\n",
    "    print(var_global\n",
    "\n",
    "multiplicar(8, 2)\n",
    "print(var_global) # Essa variável é global não foi modificada, porque as alterações feitas na variável só altera seu valor\n",
    "# localmente"
   ]
  },
  {
   "cell_type": "code",
   "execution_count": 2,
   "metadata": {},
   "outputs": [
    {
     "name": "stdout",
     "output_type": "stream",
     "text": [
      "5.0\n"
     ]
    },
    {
     "ename": "NameError",
     "evalue": "name 'var_local' is not defined",
     "output_type": "error",
     "traceback": [
      "\u001b[1;31m---------------------------------------------------------------------------\u001b[0m",
      "\u001b[1;31mNameError\u001b[0m                                 Traceback (most recent call last)",
      "\u001b[1;32m<ipython-input-2-db34a0ad501d>\u001b[0m in \u001b[0;36m<module>\u001b[1;34m\u001b[0m\n\u001b[0;32m      5\u001b[0m     \u001b[0mprint\u001b[0m\u001b[1;33m(\u001b[0m\u001b[0mvar_local\u001b[0m\u001b[1;33m)\u001b[0m\u001b[1;33m\u001b[0m\u001b[1;33m\u001b[0m\u001b[0m\n\u001b[0;32m      6\u001b[0m \u001b[0mdivisão\u001b[0m\u001b[1;33m(\u001b[0m\u001b[1;36m15\u001b[0m\u001b[1;33m,\u001b[0m\u001b[1;36m3\u001b[0m\u001b[1;33m)\u001b[0m\u001b[1;33m\u001b[0m\u001b[1;33m\u001b[0m\u001b[0m\n\u001b[1;32m----> 7\u001b[1;33m \u001b[0mprint\u001b[0m\u001b[1;33m(\u001b[0m\u001b[0mvar_local\u001b[0m\u001b[1;33m)\u001b[0m\u001b[1;33m\u001b[0m\u001b[1;33m\u001b[0m\u001b[0m\n\u001b[0m",
      "\u001b[1;31mNameError\u001b[0m: name 'var_local' is not defined"
     ]
    }
   ],
   "source": [
    "#Outro exemplo de variável local e global\n",
    "var_global = 10\n",
    "def divisão(num1, num2):\n",
    "    var_local = num1 / num2\n",
    "    print(var_local)\n",
    "divisão(15,3)\n",
    "print(var_local) # O motivo pela qual o valor não é mostrado é porque você está querendo mostrar um valor de uma variável\n",
    "#local em uma área global."
   ]
  },
  {
   "cell_type": "code",
   "execution_count": 4,
   "metadata": {},
   "outputs": [
    {
     "name": "stdout",
     "output_type": "stream",
     "text": [
      "['Uma', 'boa', 'comida', 'é', 'preparada', 'com', 'coração', 'e', 'não', 'com', 'as', 'mãos.']\n"
     ]
    }
   ],
   "source": [
    "#Fazendo spit dos dados\n",
    "def split_string(texto):\n",
    "    return texto.split(\" \")\n",
    "texto = \"Uma boa comida é preparada com coração e não com as mãos.\"\n",
    "print(split_string(texto))"
   ]
  },
  {
   "cell_type": "code",
   "execution_count": 6,
   "metadata": {},
   "outputs": [
    {
     "name": "stdout",
     "output_type": "stream",
     "text": [
      "['Uma', 'história', 'bem', 'contada', 'pode', 'inspirar', 'qualquer', 'pessoa']\n"
     ]
    }
   ],
   "source": [
    "def piada(silabas):\n",
    "    return silabas.split(\" \")\n",
    "silabas = \"Uma história bem contada pode inspirar qualquer pessoa\"\n",
    "print(piada(silabas))"
   ]
  },
  {
   "cell_type": "code",
   "execution_count": 9,
   "metadata": {},
   "outputs": [
    {
     "data": {
      "text/plain": [
       "['Uma', 'história', 'bem', 'contada', 'pode', 'inspirar', 'qualquer', 'pessoa']"
      ]
     },
     "execution_count": 9,
     "metadata": {},
     "output_type": "execute_result"
    }
   ],
   "source": [
    "# Salvando o resultado acima em uma variável\n",
    "historia = piada(silabas)\n",
    "historia"
   ]
  },
  {
   "cell_type": "code",
   "execution_count": null,
   "metadata": {},
   "outputs": [],
   "source": []
  }
 ],
 "metadata": {
  "kernelspec": {
   "display_name": "Python 3",
   "language": "python",
   "name": "python3"
  },
  "language_info": {
   "codemirror_mode": {
    "name": "ipython",
    "version": 3
   },
   "file_extension": ".py",
   "mimetype": "text/x-python",
   "name": "python",
   "nbconvert_exporter": "python",
   "pygments_lexer": "ipython3",
   "version": "3.7.3"
  }
 },
 "nbformat": 4,
 "nbformat_minor": 2
}
