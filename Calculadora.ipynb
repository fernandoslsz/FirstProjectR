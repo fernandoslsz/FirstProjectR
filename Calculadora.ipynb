{
 "cells": [
  {
   "cell_type": "markdown",
   "metadata": {},
   "source": [
    "# Calculadora"
   ]
  },
  {
   "cell_type": "code",
   "execution_count": 4,
   "metadata": {
    "scrolled": true
   },
   "outputs": [
    {
     "name": "stdout",
     "output_type": "stream",
     "text": [
      "Selecione uma das opções \n",
      "\n",
      "1 - Soma\n",
      "\n",
      "2 - Subtrair\n",
      "\n",
      "3 - Multiplicar\n",
      "\n",
      "4 - Divir\n",
      "Digite sua opção aqui:5\n",
      "Opção inválida\n"
     ]
    }
   ],
   "source": [
    "print(\"Selecione uma das opções \")\n",
    "print(\"\\n1 - Soma\")\n",
    "print(\"\\n2 - Subtrair\")\n",
    "print(\"\\n3 - Multiplicar\")\n",
    "print(\"\\n4 - Divir\")\n",
    "op = int(input(\"Digite sua opção aqui:\"))\n",
    "if(op == 1):\n",
    "    num1 = int(input(\"Digite um número aqui:\"))\n",
    "    num2 = int(input(\"Digite o segundo número aqui:\"))\n",
    "    resultado = num1 + num2\n",
    "    print(str(num1) + \"+\" + str(num2) + \"=\" + str(resultado))\n",
    "elif(op == 2):\n",
    "    num1 = int(input(\"Digite um número aqui:\"))\n",
    "    num2 = int(input(\"Digite o segundo número aqui:\"))\n",
    "    resultado = num1 - num2\n",
    "    print(str(num1) + \"-\" + str(num2) + \"=\" + str(resultado))\n",
    "elif(op == 3):\n",
    "    num1 = int(input(\"Digite um número aqui:\"))\n",
    "    num2 = int(input(\"Digite o segundo número aqui:\"))\n",
    "    resultado = num1 * num2\n",
    "    print(str(num1) + \"*\" + str(num2) + \"=\" + str(resultado))\n",
    "elif(op == 4):\n",
    "    num1 = int(input(\"Digite um número aqui:\"))\n",
    "    num2 = int(input(\"Digite o segundo número aqui:\"))\n",
    "    resultado = num1 / num2\n",
    "    print(str(num1) + \"/\" + str(num2) + \"=\" + str(resultado))\n",
    "else:\n",
    "    print(\"Opção inválida\")\n",
    "\n"
   ]
  },
  {
   "cell_type": "code",
   "execution_count": null,
   "metadata": {},
   "outputs": [],
   "source": []
  },
  {
   "cell_type": "code",
   "execution_count": null,
   "metadata": {},
   "outputs": [],
   "source": []
  }
 ],
 "metadata": {
  "kernelspec": {
   "display_name": "Python 3",
   "language": "python",
   "name": "python3"
  },
  "language_info": {
   "codemirror_mode": {
    "name": "ipython",
    "version": 3
   },
   "file_extension": ".py",
   "mimetype": "text/x-python",
   "name": "python",
   "nbconvert_exporter": "python",
   "pygments_lexer": "ipython3",
   "version": "3.7.3"
  }
 },
 "nbformat": 4,
 "nbformat_minor": 2
}
